{
 "cells": [
  {
   "cell_type": "markdown",
   "id": "14fec972-f6dc-4c4c-9a81-7578aa0248d6",
   "metadata": {},
   "source": [
    "Q1. Create one variable containing following type of data:\n",
    "(i) string\n",
    "(ii) list\n",
    "(iii) float\n",
    "(iv) tuple"
   ]
  },
  {
   "cell_type": "code",
   "execution_count": 1,
   "id": "bfb51cc5-a1de-44ac-a1e8-5aa0f0a8aaac",
   "metadata": {},
   "outputs": [],
   "source": [
    "a='makarand'\n",
    "b=[2,3,45,6]\n",
    "c=3.4\n",
    "d=(2,3,4)"
   ]
  },
  {
   "cell_type": "code",
   "execution_count": 5,
   "id": "47f40747-5163-4cd8-83ba-768a35328376",
   "metadata": {},
   "outputs": [
    {
     "name": "stdout",
     "output_type": "stream",
     "text": [
      "<class 'str'>\n",
      "<class 'list'>\n",
      "<class 'float'>\n",
      "<class 'tuple'>\n"
     ]
    }
   ],
   "source": [
    "print(type(a))\n",
    "print(type(b))\n",
    "print(type(c))\n",
    "print(type(d))\n"
   ]
  },
  {
   "cell_type": "markdown",
   "id": "56a10100-f4b3-4d74-9099-03d9c94eaca9",
   "metadata": {},
   "source": [
    "Q2. Given are some following variables containing data:\n",
    "(i) var1 = ‘ ‘\n",
    "(ii) var2 = ‘[ DS , ML , Python]’\n",
    "(iii) var3 = [ ‘DS’ , ’ML’ , ‘Python’ ]\n",
    "(iv) var4 = 1."
   ]
  },
  {
   "cell_type": "code",
   "execution_count": 10,
   "id": "d5f1dbfb-a343-4181-8593-b9e6e7f934d2",
   "metadata": {},
   "outputs": [],
   "source": [
    "var1 = ' '\n",
    "var2 = '[ DS , ML , Python]'\n",
    "var3 = [ 'DS' , 'ML' , 'Python' ]\n",
    "var4 = 1."
   ]
  },
  {
   "cell_type": "code",
   "execution_count": 11,
   "id": "4c10584a-d4fb-4e58-ba5e-7fcedb0a89dd",
   "metadata": {},
   "outputs": [
    {
     "name": "stdout",
     "output_type": "stream",
     "text": [
      "<class 'str'>\n",
      "<class 'str'>\n",
      "<class 'list'>\n",
      "<class 'float'>\n"
     ]
    }
   ],
   "source": [
    "print(type(var1))\n",
    "print(type(var2))\n",
    "print(type(var3))\n",
    "print(type(var4))\n"
   ]
  },
  {
   "cell_type": "markdown",
   "id": "743ad490-c81a-4427-9c4c-3afca4a62dce",
   "metadata": {},
   "source": [
    "Q3. Explain the use of the following operators using an example:\n",
    "(i) /\n",
    "(ii) %\n",
    "(iii) //\n",
    "(iv) **"
   ]
  },
  {
   "cell_type": "markdown",
   "id": "b6b963a4-fd8a-425b-85ad-105e215dc912",
   "metadata": {},
   "source": [
    "Divison operator = / (this operator is used for division of two numbers)"
   ]
  },
  {
   "cell_type": "code",
   "execution_count": 13,
   "id": "ccf1efd0-d790-400e-8d7c-86edd90a101f",
   "metadata": {},
   "outputs": [
    {
     "data": {
      "text/plain": [
       "5.0"
      ]
     },
     "execution_count": 13,
     "metadata": {},
     "output_type": "execute_result"
    }
   ],
   "source": [
    "10/2"
   ]
  },
  {
   "cell_type": "markdown",
   "id": "2a25de55-768b-45aa-9c5e-e8e8a1ca40a0",
   "metadata": {},
   "source": [
    "Modulus operator = % (this operator is used for showing reminder result of division of two numbers)"
   ]
  },
  {
   "cell_type": "code",
   "execution_count": 17,
   "id": "516684f7-2c43-44ae-99d8-7c32134d383d",
   "metadata": {},
   "outputs": [
    {
     "data": {
      "text/plain": [
       "2"
      ]
     },
     "execution_count": 17,
     "metadata": {},
     "output_type": "execute_result"
    }
   ],
   "source": [
    "30%4"
   ]
  },
  {
   "cell_type": "markdown",
   "id": "6bcc1215-2765-49c2-b076-9ecff4e1a525",
   "metadata": {},
   "source": [
    "Floor division operator = // (this operator is used for showing dividend result of division of two numbers)"
   ]
  },
  {
   "cell_type": "code",
   "execution_count": 18,
   "id": "9ffc3a13-a43f-422d-89fc-5b581246532b",
   "metadata": {},
   "outputs": [
    {
     "data": {
      "text/plain": [
       "5"
      ]
     },
     "execution_count": 18,
     "metadata": {},
     "output_type": "execute_result"
    }
   ],
   "source": [
    "15//3"
   ]
  },
  {
   "cell_type": "markdown",
   "id": "6ee6bef8-4ba6-493a-b57d-ca9bb5814eb9",
   "metadata": {},
   "source": [
    "Power operator = ** (this operator gives the result of left hand number's power, e.g four to the power of three)"
   ]
  },
  {
   "cell_type": "code",
   "execution_count": 19,
   "id": "75beea02-3883-4c02-93c7-cab91b5f05d2",
   "metadata": {},
   "outputs": [
    {
     "data": {
      "text/plain": [
       "64"
      ]
     },
     "execution_count": 19,
     "metadata": {},
     "output_type": "execute_result"
    }
   ],
   "source": [
    "4**3"
   ]
  },
  {
   "cell_type": "markdown",
   "id": "56a16661-b93c-4fe5-830c-be16d8637422",
   "metadata": {},
   "source": [
    "Q4. Create a list of length 10 of your choice containing multiple types of data. Using for loop print the\n",
    "element and its data type."
   ]
  },
  {
   "cell_type": "code",
   "execution_count": 22,
   "id": "22e4b0ca-7838-4bb4-b22c-9d7598c6221a",
   "metadata": {},
   "outputs": [
    {
     "name": "stdout",
     "output_type": "stream",
     "text": [
      "<class 'int'>\n",
      "<class 'int'>\n",
      "<class 'int'>\n",
      "<class 'str'>\n",
      "<class 'float'>\n",
      "<class 'complex'>\n",
      "<class 'str'>\n",
      "<class 'float'>\n",
      "<class 'int'>\n",
      "<class 'int'>\n"
     ]
    }
   ],
   "source": [
    "l=[1,2,4,'makarand',34.5,3+4j,'raj',23.2,56,78]\n",
    "for i in l:\n",
    "    print(type(i))"
   ]
  },
  {
   "cell_type": "markdown",
   "id": "cbee3995-97f1-4c49-b25f-28785a44f3d6",
   "metadata": {},
   "source": [
    "Q5 Using a while loop, verify if the number A is purely divisible by number B and if so then how many\n",
    "times it can be divisible."
   ]
  },
  {
   "cell_type": "code",
   "execution_count": 29,
   "id": "4c43ebab-3a48-402e-8c82-7b087f28b68b",
   "metadata": {},
   "outputs": [
    {
     "name": "stdin",
     "output_type": "stream",
     "text": [
      " 20\n",
      " 2\n"
     ]
    },
    {
     "name": "stdout",
     "output_type": "stream",
     "text": [
      "a is divisible by b\n",
      "a can be divided 10.0 times by b\n"
     ]
    }
   ],
   "source": [
    "a=int(input())\n",
    "b=int(input())\n",
    "\n",
    "if a%b==0:\n",
    "    print('a is divisible by b')\n",
    "    c=a/b\n",
    "    print('a can be divided',c,'times by b' )\n",
    "    \n",
    "else:    \n",
    "    print('a is not divisible by b')"
   ]
  },
  {
   "cell_type": "markdown",
   "id": "6606e454-ab88-4be6-b8d3-8874441cd495",
   "metadata": {},
   "source": [
    "Q6.Create a list containing 25 int type data. Using for loop and if-else condition print if the element is\n",
    "divisible by 3 or not."
   ]
  },
  {
   "cell_type": "code",
   "execution_count": 47,
   "id": "9936c083-3d81-4b81-9228-e74edc0b8519",
   "metadata": {},
   "outputs": [
    {
     "name": "stdout",
     "output_type": "stream",
     "text": [
      "0 number is divisible by 3\n",
      "1 number is not divisible by 3\n",
      "2 number is not divisible by 3\n",
      "3 number is divisible by 3\n",
      "4 number is not divisible by 3\n",
      "5 number is not divisible by 3\n",
      "6 number is divisible by 3\n",
      "7 number is not divisible by 3\n",
      "8 number is not divisible by 3\n",
      "9 number is divisible by 3\n",
      "10 number is not divisible by 3\n",
      "11 number is not divisible by 3\n",
      "12 number is divisible by 3\n",
      "13 number is not divisible by 3\n",
      "14 number is not divisible by 3\n",
      "15 number is divisible by 3\n",
      "16 number is not divisible by 3\n",
      "17 number is not divisible by 3\n",
      "18 number is divisible by 3\n",
      "19 number is not divisible by 3\n",
      "20 number is not divisible by 3\n",
      "21 number is divisible by 3\n",
      "22 number is not divisible by 3\n",
      "23 number is not divisible by 3\n",
      "24 number is divisible by 3\n"
     ]
    }
   ],
   "source": [
    "l=list(range(0,25))\n",
    "for i in l:\n",
    "    if i%3==0:\n",
    "        print(i,'number is divisible by 3')\n",
    "    else :\n",
    "        print(i,'number is not divisible by 3')\n",
    "        "
   ]
  },
  {
   "cell_type": "markdown",
   "id": "c1520622-6d67-40bd-b803-91da048d6bd1",
   "metadata": {},
   "source": [
    "Q7.What do you understand about mutable and immutable data types? Give examples for both showing\n",
    "this property."
   ]
  },
  {
   "cell_type": "markdown",
   "id": "bc47c7be-5561-45d0-95f6-f9c08f9c714b",
   "metadata": {},
   "source": [
    "Mutable data types means those data types which data can we change internally by acessing it.\n",
    "for example LIST is mutable data types.In list we can access the data and we can replace it also\n",
    "\n",
    "Imutable data types means those data types which data can not be rewrite after once we have assigned it to some variable.\n",
    "for example string data type is immutable.\n"
   ]
  },
  {
   "cell_type": "code",
   "execution_count": null,
   "id": "a0f5abf6-82fc-49f9-b880-4d06ca2e9fed",
   "metadata": {},
   "outputs": [],
   "source": []
  }
 ],
 "metadata": {
  "kernelspec": {
   "display_name": "Python 3 (ipykernel)",
   "language": "python",
   "name": "python3"
  },
  "language_info": {
   "codemirror_mode": {
    "name": "ipython",
    "version": 3
   },
   "file_extension": ".py",
   "mimetype": "text/x-python",
   "name": "python",
   "nbconvert_exporter": "python",
   "pygments_lexer": "ipython3",
   "version": "3.10.8"
  }
 },
 "nbformat": 4,
 "nbformat_minor": 5
}
