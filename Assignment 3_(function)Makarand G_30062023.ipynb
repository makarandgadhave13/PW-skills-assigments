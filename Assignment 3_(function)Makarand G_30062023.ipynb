{
 "cells": [
  {
   "cell_type": "markdown",
   "id": "7012a48a-8cae-41e6-a2eb-540cd67f9a9a",
   "metadata": {},
   "source": [
    "Week 3 (function) Assignment No.1 "
   ]
  },
  {
   "cell_type": "markdown",
   "id": "91aa2a8e-b22d-4eb2-9b50-0447d39fbf01",
   "metadata": {},
   "source": [
    "Q1. Which keyword is used to create a function? Create a function to return a list of odd numbers in the \n",
    "range of 1 to 25"
   ]
  },
  {
   "cell_type": "markdown",
   "id": "99422599-2902-4062-89e4-a4b976dfcf93",
   "metadata": {},
   "source": [
    "1. def is used for create function"
   ]
  },
  {
   "cell_type": "code",
   "execution_count": 4,
   "id": "fdd29511-fea9-40f6-950b-98e551186abb",
   "metadata": {},
   "outputs": [],
   "source": [
    "l=list((range(1,25)))"
   ]
  },
  {
   "cell_type": "code",
   "execution_count": 14,
   "id": "268e27e5-9e8f-4e23-aef2-890689de7215",
   "metadata": {},
   "outputs": [],
   "source": [
    "def test_odd_numbers(l):\n",
    "    odd_numbers=[]\n",
    "    even_number=[]\n",
    "    \n",
    "    for i in l:\n",
    "        if i%2==1:\n",
    "            odd_numbers.append(i)\n",
    "        else:\n",
    "            even_number.append(i)\n",
    "            \n",
    "    return odd_numbers,even_number   \n"
   ]
  },
  {
   "cell_type": "code",
   "execution_count": 10,
   "id": "c3b88223-46b2-42e3-835b-af0b9249ccd2",
   "metadata": {},
   "outputs": [
    {
     "data": {
      "text/plain": [
       "([1, 3, 5, 7, 9, 11, 13, 15, 17, 19, 21, 23],\n",
       " [2, 4, 6, 8, 10, 12, 14, 16, 18, 20, 22, 24])"
      ]
     },
     "execution_count": 10,
     "metadata": {},
     "output_type": "execute_result"
    }
   ],
   "source": [
    "test_odd_numbers(l)"
   ]
  },
  {
   "cell_type": "code",
   "execution_count": 12,
   "id": "40e311ac-6cc2-4bba-af0d-816e8669270d",
   "metadata": {},
   "outputs": [
    {
     "data": {
      "text/plain": [
       "[1, 3, 5, 7, 9, 11, 13, 15, 17, 19, 21, 23]"
      ]
     },
     "execution_count": 12,
     "metadata": {},
     "output_type": "execute_result"
    }
   ],
   "source": [
    "list(filter(lambda x:x%2==1,l))"
   ]
  },
  {
   "cell_type": "markdown",
   "id": "30bebeda-89ff-47b3-8233-491e8fa68827",
   "metadata": {},
   "source": [
    "Q2. Why *args and **kwargs is used in some functions? Create a function each for *args and **kwargs \n",
    "to demonstrate their use"
   ]
  },
  {
   "cell_type": "markdown",
   "id": "cfe4bb0f-f474-4566-8b7b-25ccba83a127",
   "metadata": {},
   "source": [
    "*args & **kwargs used for using multiple arguments in function. *args gives the function result in tuple & **kwargs results in dictionary"
   ]
  },
  {
   "cell_type": "code",
   "execution_count": 6,
   "id": "700275b7-d1b1-47c8-a941-29ea4e749f9f",
   "metadata": {},
   "outputs": [],
   "source": [
    "def test1(*args):\n",
    "    return args"
   ]
  },
  {
   "cell_type": "code",
   "execution_count": 8,
   "id": "575fc3ec-8f0b-4b3b-944c-b02606b738a6",
   "metadata": {},
   "outputs": [
    {
     "data": {
      "text/plain": [
       "(1, 2, 3, 4, 56, 4, 5)"
      ]
     },
     "execution_count": 8,
     "metadata": {},
     "output_type": "execute_result"
    }
   ],
   "source": [
    "test1(1,2,3,4,56,4,5)"
   ]
  },
  {
   "cell_type": "code",
   "execution_count": 9,
   "id": "8de88f51-562c-4974-9c56-1b7f4d16c49e",
   "metadata": {},
   "outputs": [],
   "source": [
    "def test2(**kwargs):\n",
    "    return kwargs"
   ]
  },
  {
   "cell_type": "code",
   "execution_count": 10,
   "id": "8f17a8c3-b773-424c-bff2-2d80cffa7c93",
   "metadata": {},
   "outputs": [
    {
     "data": {
      "text/plain": [
       "{'a': 1, 'b': 45, 'c': 'makarand', 'd': [12, 33, 4]}"
      ]
     },
     "execution_count": 10,
     "metadata": {},
     "output_type": "execute_result"
    }
   ],
   "source": [
    "test2(a=1,b=45,c='makarand',d=[12,33,4])"
   ]
  },
  {
   "cell_type": "markdown",
   "id": "0719f04a-c69a-410f-bdd1-230030a17f2a",
   "metadata": {},
   "source": [
    "Q3.  What is an iterator in python? Name the method used to initialise the iterator object and the method \n",
    "used for iteration. Use these methods to print the first five elements of the given list [2, 4, 6, 8, 10, 12, 14, \n",
    "16, 18, 20]."
   ]
  },
  {
   "cell_type": "markdown",
   "id": "dddbb0de-cb23-4396-a569-d1ac1d08b21e",
   "metadata": {},
   "source": [
    "iterator is an object that contain a countable values in it. Also iterator is an object that can be iterate.\n",
    "The Method used for iterator is first convert iterable object(list,set, tuple or string) into iterator using iter() fucntion. Then with the help of next() we can perform iteration on iterator."
   ]
  },
  {
   "cell_type": "code",
   "execution_count": 11,
   "id": "a4665251-35ac-44ba-9d61-194420e3a22d",
   "metadata": {},
   "outputs": [
    {
     "name": "stdout",
     "output_type": "stream",
     "text": [
      "2\n",
      "4\n",
      "6\n",
      "8\n",
      "10\n"
     ]
    }
   ],
   "source": [
    "l3=[2,4,6,8,10,12,14,16,18,20]\n",
    "l4=iter(l3)\n",
    "\n",
    "print(next(l4))\n",
    "print(next(l4))\n",
    "print(next(l4))\n",
    "print(next(l4))\n",
    "print(next(l4))"
   ]
  },
  {
   "cell_type": "markdown",
   "id": "ff44da97-692c-4abf-81f6-31435f427b01",
   "metadata": {},
   "source": [
    "Q4.  What is a generator function in python? Why yield keyword is used? Give an example of a generator \n",
    "function."
   ]
  },
  {
   "cell_type": "markdown",
   "id": "f64eef6a-c9fe-4631-b781-4492bc23daf0",
   "metadata": {},
   "source": [
    "1.Generator function is used for reduction of memoary usage. Generator function gives consecutive results (one by one) instead of creating whole result at one time.\n",
    "\n",
    "2.Yield keyword pauses the function execution & returns the value followed by yeild keyword for geneators further execution"
   ]
  },
  {
   "cell_type": "code",
   "execution_count": 3,
   "id": "e5ec4eb7-d7b6-4917-9d36-a6a033fbb83b",
   "metadata": {},
   "outputs": [],
   "source": [
    "def test_fib(l):\n",
    "    a,b=0,1\n",
    "    for i in range(l):\n",
    "        yield a\n",
    "        a,b= b,a+b\n",
    "        \n",
    "    "
   ]
  },
  {
   "cell_type": "code",
   "execution_count": 4,
   "id": "b5679430-d365-412f-8ef8-cadf8fff00db",
   "metadata": {},
   "outputs": [
    {
     "name": "stdout",
     "output_type": "stream",
     "text": [
      "0\n",
      "1\n",
      "1\n",
      "2\n",
      "3\n",
      "5\n",
      "8\n",
      "13\n",
      "21\n",
      "34\n"
     ]
    }
   ],
   "source": [
    "for i in test_fib(10):\n",
    "    print(i)"
   ]
  },
  {
   "cell_type": "markdown",
   "id": "c822abea-e7a3-49aa-bc92-f65ed465974f",
   "metadata": {},
   "source": [
    "Q5. Create a generator function for prime numbers less than 1000. Use the next() method to print the \n",
    "first 20 prime numbers"
   ]
  },
  {
   "cell_type": "markdown",
   "id": "683b3346-f0fb-4724-8d37-904327665c30",
   "metadata": {},
   "source": [
    "general method"
   ]
  },
  {
   "cell_type": "code",
   "execution_count": 27,
   "id": "fc0b373e-68c5-479d-ab67-cc1adc7731c7",
   "metadata": {},
   "outputs": [],
   "source": [
    "def test_prime_number(l):\n",
    "    l5=[]\n",
    "    l6=[]\n",
    "    for i in l:\n",
    "        if i==1:\n",
    "            l6.append(i)\n",
    "        elif i==2:\n",
    "            l5.append(i)    \n",
    "        elif i%2==1:\n",
    "            l5.append(i)\n",
    "        else:\n",
    "            l6.append(i)\n",
    "            \n",
    "    return l5        "
   ]
  },
  {
   "cell_type": "code",
   "execution_count": 30,
   "id": "3c6fc252-99fd-4a96-8296-1d7f35ac8e17",
   "metadata": {},
   "outputs": [
    {
     "data": {
      "text/plain": [
       "[2, 3, 5, 7, 9]"
      ]
     },
     "execution_count": 30,
     "metadata": {},
     "output_type": "execute_result"
    }
   ],
   "source": [
    "test_prime_number(range(10))"
   ]
  },
  {
   "cell_type": "code",
   "execution_count": null,
   "id": "ce0f7d3f-3110-4f51-899f-c3ba17dfe9d3",
   "metadata": {},
   "outputs": [],
   "source": [
    "\n",
    "    "
   ]
  },
  {
   "cell_type": "code",
   "execution_count": null,
   "id": "7e98ab0b-4fb1-41b1-b773-4886d47d7d3b",
   "metadata": {},
   "outputs": [],
   "source": []
  },
  {
   "cell_type": "markdown",
   "id": "a5c62be5-0f08-4385-89dc-6c79b533e166",
   "metadata": {},
   "source": [
    "Q6. Write a python program to print the first 10 Fibonacci numbers using a while loop."
   ]
  },
  {
   "cell_type": "code",
   "execution_count": 6,
   "id": "c1eba7b9-c881-4e4d-9eb5-3f21d121e92e",
   "metadata": {},
   "outputs": [],
   "source": [
    "def test_feb(n):\n",
    "    a,b=0,1\n",
    "    while True:\n",
    "        yield a\n",
    "        a,b=b,a+b\n"
   ]
  },
  {
   "cell_type": "code",
   "execution_count": 43,
   "id": "74723bd3-be96-40fd-882e-9ba58e2fbca4",
   "metadata": {},
   "outputs": [],
   "source": [
    "fib1=test_feb(10)"
   ]
  },
  {
   "cell_type": "code",
   "execution_count": 44,
   "id": "6c37bfb3-9f73-443a-92f0-f5d57ef8ad83",
   "metadata": {},
   "outputs": [
    {
     "name": "stdout",
     "output_type": "stream",
     "text": [
      "0\n",
      "1\n",
      "1\n",
      "2\n",
      "3\n",
      "5\n",
      "8\n",
      "13\n",
      "21\n",
      "34\n"
     ]
    }
   ],
   "source": [
    "for i in range(10):\n",
    "    print(next(fib1))"
   ]
  },
  {
   "cell_type": "markdown",
   "id": "50d414a2-2246-4ccd-be05-b2b6c46ae378",
   "metadata": {},
   "source": [
    "Q7. Write a List Comprehension to iterate through the given string: ‘pwskills’.\n",
    "\n",
    "Expected output: ['p', 'w', 's', 'k', 'i', 'l', 'l', 's']"
   ]
  },
  {
   "cell_type": "code",
   "execution_count": 47,
   "id": "91cc98fb-3417-4966-947b-e2eb449682f9",
   "metadata": {},
   "outputs": [
    {
     "data": {
      "text/plain": [
       "['P', 'W', 'S', 'K', 'I', 'L', 'L', 'S']"
      ]
     },
     "execution_count": 47,
     "metadata": {},
     "output_type": "execute_result"
    }
   ],
   "source": [
    "s='pwskills'\n",
    "list(map(lambda x:x.upper(),s))"
   ]
  },
  {
   "cell_type": "markdown",
   "id": "04943748-6e29-4202-8ae4-a57a52d7712f",
   "metadata": {},
   "source": [
    "Q8. Write a python program to check whether a given number is Palindrome or not using a while loop"
   ]
  },
  {
   "cell_type": "code",
   "execution_count": 67,
   "id": "6dfb4340-2082-4433-b405-65ee3abd03bf",
   "metadata": {},
   "outputs": [],
   "source": [
    "def is_palindrome(num):\n",
    "    reverse = 0\n",
    "    number = num\n",
    "\n",
    "    while(num != 0):\n",
    "        remainder = num % 10\n",
    "        reverse = reverse * 10 + remainder\n",
    "        num = int(num / 10)\n",
    "\n",
    "    if(number == reverse):\n",
    "        return True\n",
    "    else:\n",
    "        return False\n",
    "\n"
   ]
  },
  {
   "cell_type": "code",
   "execution_count": 68,
   "id": "85a76def-50d6-40d4-a021-f53c751ce2e2",
   "metadata": {},
   "outputs": [
    {
     "name": "stdin",
     "output_type": "stream",
     "text": [
      "Enter the number:  12\n"
     ]
    },
    {
     "name": "stdout",
     "output_type": "stream",
     "text": [
      "12 is not a Palindrome\n"
     ]
    }
   ],
   "source": [
    "num = int(input(\"Enter the number: \"))\n",
    "\n",
    "if(is_palindrome(num)):\n",
    "    print(num,'is a Palindrome')\n",
    "else:\n",
    "    print(num,'is not a Palindrome')"
   ]
  },
  {
   "cell_type": "markdown",
   "id": "1fc2e843-8ae7-4db6-9110-e56e5a22d459",
   "metadata": {},
   "source": [
    "Q9. Write a code to print odd numbers from 1 to 100 using list comprehension."
   ]
  },
  {
   "cell_type": "code",
   "execution_count": 76,
   "id": "90c307b2-4564-4582-a4f6-00205604ea45",
   "metadata": {},
   "outputs": [
    {
     "data": {
      "text/plain": [
       "[1,\n",
       " 3,\n",
       " 5,\n",
       " 7,\n",
       " 9,\n",
       " 11,\n",
       " 13,\n",
       " 15,\n",
       " 17,\n",
       " 19,\n",
       " 21,\n",
       " 23,\n",
       " 25,\n",
       " 27,\n",
       " 29,\n",
       " 31,\n",
       " 33,\n",
       " 35,\n",
       " 37,\n",
       " 39,\n",
       " 41,\n",
       " 43,\n",
       " 45,\n",
       " 47,\n",
       " 49,\n",
       " 51,\n",
       " 53,\n",
       " 55,\n",
       " 57,\n",
       " 59,\n",
       " 61,\n",
       " 63,\n",
       " 65,\n",
       " 67,\n",
       " 69,\n",
       " 71,\n",
       " 73,\n",
       " 75,\n",
       " 77,\n",
       " 79,\n",
       " 81,\n",
       " 83,\n",
       " 85,\n",
       " 87,\n",
       " 89,\n",
       " 91,\n",
       " 93,\n",
       " 95,\n",
       " 97,\n",
       " 99]"
      ]
     },
     "execution_count": 76,
     "metadata": {},
     "output_type": "execute_result"
    }
   ],
   "source": [
    "l=list(range(1,101))\n",
    "list(filter(lambda x:x%2==1,l))"
   ]
  },
  {
   "cell_type": "code",
   "execution_count": null,
   "id": "379d4f3d-c155-4203-ab88-ac863df09c55",
   "metadata": {},
   "outputs": [],
   "source": []
  },
  {
   "cell_type": "code",
   "execution_count": null,
   "id": "ccabd3ce-9618-41aa-bb31-18dc0cdf9f8a",
   "metadata": {},
   "outputs": [],
   "source": []
  },
  {
   "cell_type": "code",
   "execution_count": null,
   "id": "529bf1d7-92af-4f7a-b397-f647a8e12329",
   "metadata": {},
   "outputs": [],
   "source": []
  },
  {
   "cell_type": "code",
   "execution_count": null,
   "id": "b67edafe-36af-4698-a2b1-7e703d553a57",
   "metadata": {},
   "outputs": [],
   "source": []
  },
  {
   "cell_type": "code",
   "execution_count": null,
   "id": "4844924f-2c21-49ba-8ff5-40e43dae41ea",
   "metadata": {},
   "outputs": [],
   "source": []
  },
  {
   "cell_type": "code",
   "execution_count": null,
   "id": "45f80ed4-5fc4-44ba-8831-cca7b91b5a7a",
   "metadata": {},
   "outputs": [],
   "source": []
  }
 ],
 "metadata": {
  "kernelspec": {
   "display_name": "Python 3 (ipykernel)",
   "language": "python",
   "name": "python3"
  },
  "language_info": {
   "codemirror_mode": {
    "name": "ipython",
    "version": 3
   },
   "file_extension": ".py",
   "mimetype": "text/x-python",
   "name": "python",
   "nbconvert_exporter": "python",
   "pygments_lexer": "ipython3",
   "version": "3.10.8"
  }
 },
 "nbformat": 4,
 "nbformat_minor": 5
}
