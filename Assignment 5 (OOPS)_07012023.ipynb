{
 "cells": [
  {
   "cell_type": "markdown",
   "id": "789c058f-a975-49c6-94b2-313885899087",
   "metadata": {},
   "source": [
    "Q1, Create a vehicle class with an init method having instance variables as name_of_vehicle, max_speed\n",
    "and average_of_vehicle."
   ]
  },
  {
   "cell_type": "code",
   "execution_count": 40,
   "id": "cadddd24-a7bb-40fb-a60d-91618d1d01a7",
   "metadata": {},
   "outputs": [],
   "source": [
    "class test:\n",
    "    pass\n",
    "\n"
   ]
  },
  {
   "cell_type": "code",
   "execution_count": 41,
   "id": "b981de8a-8209-41c3-8afe-f37d1cb89e6a",
   "metadata": {},
   "outputs": [],
   "source": [
    "a=test()"
   ]
  },
  {
   "cell_type": "code",
   "execution_count": 43,
   "id": "39531104-956b-4b13-8943-5639057c4ec5",
   "metadata": {},
   "outputs": [
    {
     "data": {
      "text/plain": [
       "__main__.test"
      ]
     },
     "execution_count": 43,
     "metadata": {},
     "output_type": "execute_result"
    }
   ],
   "source": [
    "type(test())"
   ]
  },
  {
   "cell_type": "code",
   "execution_count": 45,
   "id": "8402aa8d-d6ea-40f4-bd62-cfa78c31a950",
   "metadata": {},
   "outputs": [],
   "source": [
    "class welcome:\n",
    "    def weclome_msg(self):\n",
    "        print(\"welcome\")"
   ]
  },
  {
   "cell_type": "code",
   "execution_count": 46,
   "id": "5dda9f13-9e49-45cf-91ea-0dcf7516d7f9",
   "metadata": {},
   "outputs": [],
   "source": [
    "a=welcome()"
   ]
  },
  {
   "cell_type": "code",
   "execution_count": 47,
   "id": "eeea8652-f656-452c-a37e-77cf237b2689",
   "metadata": {},
   "outputs": [
    {
     "name": "stdout",
     "output_type": "stream",
     "text": [
      "welcome\n"
     ]
    }
   ],
   "source": [
    "a.weclome_msg()"
   ]
  },
  {
   "cell_type": "code",
   "execution_count": 63,
   "id": "bc29f7cf-0be3-422f-a450-bd4fb1704614",
   "metadata": {},
   "outputs": [],
   "source": [
    "class vehical_class:\n",
    "    \n",
    "    def __init__(self,name_of_vehicle, max_speed, average_of_vehicle):\n",
    "        self.name_of_vehicle=name_of_vehicle\n",
    "        self.max_speed=max_speed\n",
    "        self.average_of_vehicle=average_of_vehicle\n",
    "    def return_vehical_class(self):\n",
    "        return self.name_of_vehicle, self.max_speed, self.average_of_vehicle\n",
    "        \n",
    "    "
   ]
  },
  {
   "cell_type": "code",
   "execution_count": 67,
   "id": "0acb6393-e46d-4269-80c8-a43169de9cb6",
   "metadata": {},
   "outputs": [],
   "source": [
    "car1=vehical_class('tata',100,10)"
   ]
  },
  {
   "cell_type": "code",
   "execution_count": 62,
   "id": "69bbaa1d-2a36-47b1-ad10-c6a8d11fea65",
   "metadata": {},
   "outputs": [
    {
     "data": {
      "text/plain": [
       "__main__.vehical_class"
      ]
     },
     "execution_count": 62,
     "metadata": {},
     "output_type": "execute_result"
    }
   ],
   "source": [
    "type(car1)"
   ]
  },
  {
   "cell_type": "code",
   "execution_count": 69,
   "id": "6b329fd6-5b5e-4302-8c6b-62e6d2f9452a",
   "metadata": {},
   "outputs": [
    {
     "data": {
      "text/plain": [
       "10"
      ]
     },
     "execution_count": 69,
     "metadata": {},
     "output_type": "execute_result"
    }
   ],
   "source": [
    "car1.average_of_vehicle"
   ]
  },
  {
   "cell_type": "code",
   "execution_count": 70,
   "id": "004a1179-8456-43c9-b80b-78908d4bfc27",
   "metadata": {},
   "outputs": [
    {
     "data": {
      "text/plain": [
       "100"
      ]
     },
     "execution_count": 70,
     "metadata": {},
     "output_type": "execute_result"
    }
   ],
   "source": [
    "car1.max_speed\n"
   ]
  },
  {
   "cell_type": "code",
   "execution_count": 72,
   "id": "6a3ac2f6-0139-40f6-9e60-e7c63c758fbd",
   "metadata": {},
   "outputs": [
    {
     "data": {
      "text/plain": [
       "'tata'"
      ]
     },
     "execution_count": 72,
     "metadata": {},
     "output_type": "execute_result"
    }
   ],
   "source": [
    "car1.name_of_vehicle"
   ]
  },
  {
   "cell_type": "markdown",
   "id": "97235328-7774-4ab0-8b77-4caaf06c2afa",
   "metadata": {},
   "source": [
    "Q2. Create a child class car from the vehicle class created in Que 1, which will inherit the vehicle class.\n",
    "Create a method named seating_capacity which takes capacity as an argument and returns the name of\n",
    "the vehicle and its seating capacity."
   ]
  },
  {
   "cell_type": "code",
   "execution_count": 78,
   "id": "3caf4602-54e9-4efd-ae81-d0305ff1038e",
   "metadata": {},
   "outputs": [],
   "source": [
    "class child_class_car(vehical_class):\n",
    "    \n",
    "    def __init__(self,name_of_vehicle,seating_capacity):\n",
    "        self.name_of_vehicle=name_of_vehicle\n",
    "        self.seating_capacity=seating_capacity\n",
    "        \n",
    "    def return_child_class_car(self):\n",
    "        return self.name_of_vehicle, self.seating_capacity\n",
    "    "
   ]
  },
  {
   "cell_type": "code",
   "execution_count": 80,
   "id": "05d5ec17-954b-42a9-ae94-7aff78aa043e",
   "metadata": {},
   "outputs": [],
   "source": [
    "car2=child_class_car('skoda',5)\n"
   ]
  },
  {
   "cell_type": "code",
   "execution_count": 82,
   "id": "ac299f54-d87c-4ce9-b8a8-201c607b3eb5",
   "metadata": {},
   "outputs": [
    {
     "data": {
      "text/plain": [
       "__main__.child_class_car"
      ]
     },
     "execution_count": 82,
     "metadata": {},
     "output_type": "execute_result"
    }
   ],
   "source": [
    "type(car2)"
   ]
  },
  {
   "cell_type": "markdown",
   "id": "20cf0bd2-8a86-4776-b5a8-c9201ea0746f",
   "metadata": {},
   "source": [
    "Q3. What is multiple inheritance? Write a python code to demonstrate multiple inheritance."
   ]
  },
  {
   "cell_type": "markdown",
   "id": "967b3e50-bbed-440c-8d4f-726ae061c105",
   "metadata": {},
   "source": [
    "To inhertitate mulitple classes into one single class is  called as multiple inheritance"
   ]
  },
  {
   "cell_type": "code",
   "execution_count": 83,
   "id": "444d4565-faac-450a-bd47-c3a013a19c26",
   "metadata": {},
   "outputs": [],
   "source": [
    "class class3:\n",
    "    def test_class3(self):\n",
    "        return \"this is a class 3\""
   ]
  },
  {
   "cell_type": "code",
   "execution_count": 84,
   "id": "1b53a8fb-d459-4cea-9799-5e916e978b19",
   "metadata": {},
   "outputs": [],
   "source": [
    "class class4:\n",
    "    def test_class4(self):\n",
    "        return \"this is a class 4\""
   ]
  },
  {
   "cell_type": "code",
   "execution_count": 85,
   "id": "d04719d0-156e-4e71-ba62-4f227eef495c",
   "metadata": {},
   "outputs": [],
   "source": [
    "class class5(class3,class4):\n",
    "    pass"
   ]
  },
  {
   "cell_type": "code",
   "execution_count": 86,
   "id": "2e992095-a1d3-4864-9be9-857933786087",
   "metadata": {},
   "outputs": [],
   "source": [
    "obj_class5=class5()"
   ]
  },
  {
   "cell_type": "code",
   "execution_count": 87,
   "id": "746b7657-6091-444a-b5a6-a14b2aa28e20",
   "metadata": {},
   "outputs": [
    {
     "data": {
      "text/plain": [
       "'this is a class 3'"
      ]
     },
     "execution_count": 87,
     "metadata": {},
     "output_type": "execute_result"
    }
   ],
   "source": [
    "obj_class5.test_class3()\n"
   ]
  },
  {
   "cell_type": "code",
   "execution_count": 88,
   "id": "d8a4b93c-7c05-4ed1-9a56-78d3ce60d1d0",
   "metadata": {},
   "outputs": [
    {
     "data": {
      "text/plain": [
       "'this is a class 4'"
      ]
     },
     "execution_count": 88,
     "metadata": {},
     "output_type": "execute_result"
    }
   ],
   "source": [
    "obj_class5.test_class4()"
   ]
  },
  {
   "cell_type": "markdown",
   "id": "e713f69f-6606-48b1-b009-f9e9c5d15b3a",
   "metadata": {},
   "source": [
    "Q4. What are getter and setter in python? Create a class and create a getter and a setter method in this\n",
    "class."
   ]
  },
  {
   "cell_type": "markdown",
   "id": "b517e878-8f41-440a-87d7-a205d2be19bb",
   "metadata": {},
   "source": [
    "Getter and setter method is used in python for data encapsulization. this method makes this variables private and user can not access them."
   ]
  },
  {
   "cell_type": "code",
   "execution_count": 101,
   "id": "b5bf645c-75da-442c-ac5c-439349a27b37",
   "metadata": {},
   "outputs": [],
   "source": [
    "class car:\n",
    "    \n",
    "    def __init__(self,year,make,model,speed):\n",
    "        self.__year=year\n",
    "        self.__make=make\n",
    "        self.__model=model\n",
    "        self.__speed=0\n",
    "    \n",
    "    def set_speed(self,speed):\n",
    "        self.__speed=0 if speed<0 else speed\n",
    "        \n",
    "    def get_speed(self):\n",
    "        return self.__speed\n",
    "        "
   ]
  },
  {
   "cell_type": "code",
   "execution_count": 102,
   "id": "34155c20-868d-48b4-bd71-9be312116674",
   "metadata": {},
   "outputs": [],
   "source": [
    "car1=car(2000,'tata','nexon',120)"
   ]
  },
  {
   "cell_type": "code",
   "execution_count": 104,
   "id": "b919767b-a814-4d73-95d2-eab4b4482608",
   "metadata": {},
   "outputs": [],
   "source": [
    "car1.set_speed(100)"
   ]
  },
  {
   "cell_type": "code",
   "execution_count": 106,
   "id": "e5be77e3-9693-4255-872a-1d7e872927bd",
   "metadata": {},
   "outputs": [
    {
     "data": {
      "text/plain": [
       "100"
      ]
     },
     "execution_count": 106,
     "metadata": {},
     "output_type": "execute_result"
    }
   ],
   "source": [
    "car1.get_speed()"
   ]
  },
  {
   "cell_type": "markdown",
   "id": "0bd2ab20-82c0-424b-92ec-a6453431f42d",
   "metadata": {},
   "source": [
    "Q5.What is method overriding in python? Write a python code to demonstrate method overriding."
   ]
  },
  {
   "cell_type": "markdown",
   "id": "f4d888ac-1188-4b02-b3df-15e809af259f",
   "metadata": {},
   "source": [
    "overridding is feature of Object oriented programming system. It allows child class to override methods which are already defined in parent class"
   ]
  },
  {
   "cell_type": "code",
   "execution_count": 108,
   "id": "81cb21fb-3932-4c53-b929-d629dbff3917",
   "metadata": {},
   "outputs": [],
   "source": [
    "class Parent:\n",
    "    def my_method(self):\n",
    "        print(\"Parent is real method\")\n",
    "\n"
   ]
  },
  {
   "cell_type": "code",
   "execution_count": 109,
   "id": "871a1602-cfa3-469d-979b-3d0a07ae1e83",
   "metadata": {},
   "outputs": [],
   "source": [
    "class Child(Parent):\n",
    "    def my_method(self):\n",
    "        print(\"Child is real method\")\n",
    "\n"
   ]
  },
  {
   "cell_type": "code",
   "execution_count": 110,
   "id": "a64a6ee3-67ed-41de-89df-4dfd74f419c1",
   "metadata": {},
   "outputs": [
    {
     "name": "stdout",
     "output_type": "stream",
     "text": [
      "Child is real method\n"
     ]
    }
   ],
   "source": [
    "c = Child()\n",
    "c.my_method()"
   ]
  },
  {
   "cell_type": "code",
   "execution_count": null,
   "id": "2cd4dfe0-b42a-46ac-a5d6-7e5713783f3e",
   "metadata": {},
   "outputs": [],
   "source": []
  },
  {
   "cell_type": "code",
   "execution_count": null,
   "id": "fa3ec94e-f634-459a-b1d4-288a5f1f483e",
   "metadata": {},
   "outputs": [],
   "source": []
  }
 ],
 "metadata": {
  "kernelspec": {
   "display_name": "Python 3 (ipykernel)",
   "language": "python",
   "name": "python3"
  },
  "language_info": {
   "codemirror_mode": {
    "name": "ipython",
    "version": 3
   },
   "file_extension": ".py",
   "mimetype": "text/x-python",
   "name": "python",
   "nbconvert_exporter": "python",
   "pygments_lexer": "ipython3",
   "version": "3.10.8"
  }
 },
 "nbformat": 4,
 "nbformat_minor": 5
}
