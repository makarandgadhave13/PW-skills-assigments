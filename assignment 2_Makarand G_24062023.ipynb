{
 "cells": [
  {
   "cell_type": "markdown",
   "id": "066ceaac-c5a7-4341-9ce1-f70a10ef391a",
   "metadata": {},
   "source": [
    "Q1. How do you comment code in Python? What are the different types of comments?"
   ]
  },
  {
   "cell_type": "markdown",
   "id": "b5b30dba-80f0-4547-ba24-f41bf194f7d9",
   "metadata": {},
   "source": [
    "ANS : For making any line comment there are two ways to do\n",
    "\n",
    "1.Use # before the sentence then it will convert it into comment\n",
    "\n",
    "2.Select the sentence and press ctrl + / (forward slash) then it will convert it comments\n",
    "\n",
    "There are two types of comments\n",
    "\n",
    "  1.single line comments : use # before sentence for making single line comment \n",
    "  \n",
    "  2.multi line comments : use ''' or \"\"\" before & after the comment sentence \n"
   ]
  },
  {
   "cell_type": "markdown",
   "id": "b6037031-ecb7-41b4-b246-68856d275107",
   "metadata": {},
   "source": [
    "Q2. What are variables in Python? How do you declare and assign values to variables?"
   ]
  },
  {
   "cell_type": "markdown",
   "id": "0737ec92-0622-4260-9881-ba08f0776080",
   "metadata": {},
   "source": [
    "ANS : variable in python used for store the values. It can be integer, float, string, imaginary number,list, set tuples etc.\n",
    "\n",
    "for assigning value to variable first we type veraible & by using assigment operator (=) we assign value to it"
   ]
  },
  {
   "cell_type": "markdown",
   "id": "d1ba4990-9a39-4477-a33d-b12ce8899e76",
   "metadata": {},
   "source": [
    "Q3. How do you convert one data type to another in Python?"
   ]
  },
  {
   "cell_type": "markdown",
   "id": "c3754f50-0f19-4a75-9545-3a1d8079bb0b",
   "metadata": {},
   "source": [
    "ANS : we can convert one data type to another data type using conversion function \n",
    "for eg. float(), str() , int()"
   ]
  },
  {
   "cell_type": "markdown",
   "id": "6a395d05-0263-4f48-8b76-54cafc961e57",
   "metadata": {},
   "source": [
    "Q4. How do you write and execute a Python script from the command line?"
   ]
  },
  {
   "cell_type": "markdown",
   "id": "46bbdbe3-81c9-4751-a8f7-883786a4f8fe",
   "metadata": {},
   "source": [
    "ANS : first we need to write code in command line then for exceution need to press on run button or press ctrl + enter for execution of  code, which is written in command line"
   ]
  },
  {
   "cell_type": "markdown",
   "id": "69267dcf-cc86-4ef8-8721-593daddcfa32",
   "metadata": {},
   "source": [
    "Q5. Given a list my_list = [1, 2, 3, 4, 5], write the code to slice the list and obtain the sub-list [2, 3]."
   ]
  },
  {
   "cell_type": "code",
   "execution_count": 14,
   "id": "c57c1d87-a6a2-488e-9ebc-a2d5323d817a",
   "metadata": {},
   "outputs": [
    {
     "data": {
      "text/plain": [
       "[2, 3]"
      ]
     },
     "execution_count": 14,
     "metadata": {},
     "output_type": "execute_result"
    }
   ],
   "source": [
    "my_list=[1,2,3,4,5]\n",
    "a=my_list[1:3:1]\n",
    "a"
   ]
  },
  {
   "cell_type": "markdown",
   "id": "841a095a-e396-4a7b-b676-8dc3e572c3ed",
   "metadata": {},
   "source": [
    "Q6. What is a complex number in mathematics, and how is it represented in Python?"
   ]
  },
  {
   "cell_type": "markdown",
   "id": "0a56a252-c934-4d09-8d5c-6c08627b426e",
   "metadata": {},
   "source": [
    "ANS :In mathematics complex number is denoted in the form of Z=X+iY. \n",
    "Where X is real number and y is imagianry number and i**2 is -1\n",
    "for accessing real and imaginary part of any complex number in python .real & .imag syntax is being used."
   ]
  },
  {
   "cell_type": "markdown",
   "id": "0f6daf32-880a-4628-8396-803fe5a26044",
   "metadata": {},
   "source": [
    "Q7. What is the correct way to declare a variable named age and assign the value 25 to it"
   ]
  },
  {
   "cell_type": "markdown",
   "id": "afce9df2-798c-42be-81b8-ad3308fef441",
   "metadata": {},
   "source": [
    "ANS : the correct way to declare a variable named age and assign the value 25 to it is by using assigment operator"
   ]
  },
  {
   "cell_type": "code",
   "execution_count": 24,
   "id": "9da69788-b6e1-4d90-87cc-f268292f592d",
   "metadata": {},
   "outputs": [],
   "source": [
    "age=25"
   ]
  },
  {
   "cell_type": "markdown",
   "id": "7d422308-ad69-4126-aa68-31b88ca49568",
   "metadata": {},
   "source": [
    "Q8. Declare a variable named price and assign the value 9.99 to it. What data type does this variable \n",
    "belong to?"
   ]
  },
  {
   "cell_type": "code",
   "execution_count": 26,
   "id": "f8dc5a69-ad17-41d1-89c0-19d270d6e973",
   "metadata": {},
   "outputs": [
    {
     "name": "stdout",
     "output_type": "stream",
     "text": [
      "<class 'float'>\n"
     ]
    }
   ],
   "source": [
    "price=9.9\n",
    "print(type(price))"
   ]
  },
  {
   "cell_type": "markdown",
   "id": "01622ee0-5c0a-4f88-bbee-3d9ec61aeaf1",
   "metadata": {},
   "source": [
    "Q9. Create a variable named name and assign your full name to it as a string. How would you print the \n",
    "value of this variable?"
   ]
  },
  {
   "cell_type": "code",
   "execution_count": 28,
   "id": "e83dc15a-6008-4ed5-887f-85f8e42e2ccc",
   "metadata": {},
   "outputs": [
    {
     "name": "stdout",
     "output_type": "stream",
     "text": [
      "makarand hanumant gadhave\n"
     ]
    }
   ],
   "source": [
    "name='makarand hanumant gadhave'\n",
    "print(name)"
   ]
  },
  {
   "cell_type": "markdown",
   "id": "79992c5c-88c5-407d-8bc8-e754a8dc9b1f",
   "metadata": {},
   "source": [
    "Q10. Given the string \"Hello, World!\", extract the substring \"World\"."
   ]
  },
  {
   "cell_type": "code",
   "execution_count": 31,
   "id": "870cc73f-ab6a-422f-ad69-10549101a2d1",
   "metadata": {},
   "outputs": [
    {
     "data": {
      "text/plain": [
       "'World'"
      ]
     },
     "execution_count": 31,
     "metadata": {},
     "output_type": "execute_result"
    }
   ],
   "source": [
    "l=\"Hello World!\"\n",
    "l[6:11:1]"
   ]
  },
  {
   "cell_type": "markdown",
   "id": "560c68b8-537b-4467-94c5-5eab8cb1850e",
   "metadata": {},
   "source": [
    "Q11. Create a variable named \"is_student\" and assign it a boolean value indicating whether you are \n",
    "currently a student or not."
   ]
  },
  {
   "cell_type": "code",
   "execution_count": 32,
   "id": "7d6ac38b-7af1-4d22-a9ab-d83a084dbe5b",
   "metadata": {},
   "outputs": [],
   "source": [
    "is_student=False"
   ]
  },
  {
   "cell_type": "code",
   "execution_count": null,
   "id": "085d1b22-293d-41ca-81a1-d0c3911cf0c2",
   "metadata": {},
   "outputs": [],
   "source": []
  },
  {
   "cell_type": "code",
   "execution_count": null,
   "id": "bc3cafcc-79a4-43ab-ad59-2cda0aa861de",
   "metadata": {},
   "outputs": [],
   "source": []
  },
  {
   "cell_type": "code",
   "execution_count": null,
   "id": "473e44ab-93f3-4c1c-88b6-969c823b69c3",
   "metadata": {},
   "outputs": [],
   "source": []
  },
  {
   "cell_type": "code",
   "execution_count": null,
   "id": "a183c338-5854-4600-9382-ca95da27ef08",
   "metadata": {},
   "outputs": [],
   "source": []
  }
 ],
 "metadata": {
  "kernelspec": {
   "display_name": "Python 3 (ipykernel)",
   "language": "python",
   "name": "python3"
  },
  "language_info": {
   "codemirror_mode": {
    "name": "ipython",
    "version": 3
   },
   "file_extension": ".py",
   "mimetype": "text/x-python",
   "name": "python",
   "nbconvert_exporter": "python",
   "pygments_lexer": "ipython3",
   "version": "3.10.8"
  }
 },
 "nbformat": 4,
 "nbformat_minor": 5
}
